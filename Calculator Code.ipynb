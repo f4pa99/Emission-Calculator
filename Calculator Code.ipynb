{
 "cells": [
  {
   "cell_type": "markdown",
   "id": "884f97eb",
   "metadata": {},
   "source": [
    "Import Libaries"
   ]
  },
  {
   "cell_type": "code",
   "execution_count": null,
   "id": "f3168cca",
   "metadata": {},
   "outputs": [],
   "source": [
    "import os # for clearing the terminal\n",
    "import time # for adding pauses\n",
    "\n",
    "import openai #For Chat GPT input\n",
    "from openai import OpenAI #For Chat GPT input\n",
    "import json #For Chat GPT input"
   ]
  },
  {
   "cell_type": "markdown",
   "id": "0507ad50",
   "metadata": {},
   "source": [
    "Welcome Message"
   ]
  },
  {
   "cell_type": "code",
   "execution_count": null,
   "id": "009b5053",
   "metadata": {},
   "outputs": [],
   "source": [
    "print(\"Simple Emissions Calculator Ready!\")\n",
    "\n",
    "# Pause for 2 seconds\n",
    "time.sleep(2) "
   ]
  },
  {
   "cell_type": "markdown",
   "id": "6a8e5ea6",
   "metadata": {},
   "source": [
    "Defining Variables"
   ]
  },
  {
   "cell_type": "code",
   "execution_count": null,
   "id": "3bddcd82",
   "metadata": {},
   "outputs": [],
   "source": [
    "# Dictionary of emission factors in kg CO2 per km\n",
    "emission_factors = {\n",
    "    'car': 0.192,      \n",
    "    'train': 0.041,\n",
    "    'plane': 0.255\n",
    "}"
   ]
  },
  {
   "cell_type": "markdown",
   "id": "b09aaeb1",
   "metadata": {},
   "source": [
    "Calculation Function"
   ]
  },
  {
   "cell_type": "code",
   "execution_count": null,
   "id": "efd0b4ee",
   "metadata": {},
   "outputs": [],
   "source": [
    "def calculate_emissions(mode, distance_km):\n",
    "    factor = emission_factors.get(mode.lower())\n",
    "    if factor:\n",
    "        return round(factor * distance_km, 2)\n",
    "    else:\n",
    "        return \"\\nInvalid transport mode selected.\""
   ]
  },
  {
   "cell_type": "markdown",
   "id": "4b2e8130",
   "metadata": {},
   "source": [
    "Leader Board"
   ]
  },
  {
   "cell_type": "code",
   "execution_count": null,
   "id": "d9ac2c25",
   "metadata": {},
   "outputs": [],
   "source": [
    "database = []"
   ]
  },
  {
   "cell_type": "markdown",
   "id": "652b6c2a",
   "metadata": {},
   "source": [
    "Function: Calculating the Emissions"
   ]
  },
  {
   "cell_type": "code",
   "execution_count": null,
   "id": "f92fbb06",
   "metadata": {},
   "outputs": [],
   "source": [
    "#Get user input, calculate emissions, and optionally save the result.\n",
    "def handle_trip_calculation():\n",
    "\n",
    "    # Get a valid transport mode or exit\n",
    "    while True:\n",
    "        mode = input(\"\\nEnter mode of transport (car/train/plane) or 'menu' to go back: \").strip().lower()\n",
    "        if mode == 'menu':\n",
    "            return  # Go back to main menu\n",
    "        if mode in emission_factors:\n",
    "            break\n",
    "        else:\n",
    "            print(\"\\nInvalid transport mode. Please enter car, train, or plane.\")\n",
    "\n",
    "    # Get a valid distance or exit\n",
    "    while True:\n",
    "        distance_input = input(\"\\nEnter distance in km or 'menu' to go back: \").strip().lower()\n",
    "        if distance_input == 'menu':\n",
    "            return\n",
    "        try:\n",
    "            distance = float(distance_input)\n",
    "            break\n",
    "        except ValueError:\n",
    "            print(\"\\nInvalid input. Please enter a number for distance.\")\n",
    "\n",
    "    # Calculate emissions\n",
    "    factor = emission_factors[mode]\n",
    "    result = round(factor * distance, 2)\n",
    "    print(f\"\\nEstimated CO2 emissions: {result} kg\")\n",
    "\n",
    "    # Ask to save result or return to menu\n",
    "    save = input(\"\\nDo you want to save this result? (y/n or 'menu' to go back): \").strip().lower()\n",
    "    if save == 'menu':\n",
    "        return\n",
    "    if save == 'y':\n",
    "        name = input(\"\\nEnter your first name or type 'menu' to cancel saving: \").strip().lower()\n",
    "        if name.lower() == 'menu':\n",
    "            return\n",
    "        database.append({\n",
    "            \"name\": name, \n",
    "            \"emissions\": result,\n",
    "            \"mode\": mode,\n",
    "            \"distance\": distance\n",
    "        })\n",
    "\n",
    "        print(\"\\nResult saved!\")\n",
    "\n",
    "\n",
    "    print(\"\\nPress Enter to return to the menu...\")\n",
    "    input()\n",
    "#"
   ]
  },
  {
   "cell_type": "markdown",
   "id": "b07f8e80",
   "metadata": {},
   "source": [
    "Function: Print the Leader Board"
   ]
  },
  {
   "cell_type": "code",
   "execution_count": null,
   "id": "f20d867b",
   "metadata": {},
   "outputs": [],
   "source": [
    "#Display the saved leaderboard.\n",
    "def show_leaderboard():\n",
    "\n",
    "    clear_screen()\n",
    "\n",
    "    if not database:\n",
    "        print(\"\\nNo entries in leaderboard yet.\")\n",
    "\n",
    "    else:\n",
    "        print(\"\\n--- Leaderboard (Lowest to Highest Total CO2 Emissions) ---\")\n",
    "\n",
    "# Step 1: Aggregate total emissions per player\n",
    "        totals = {}\n",
    "        for entry in database:\n",
    "            name = entry['name']\n",
    "            emissions = entry['emissions']\n",
    "            if name in totals:\n",
    "                totals[name] += emissions\n",
    "            else:\n",
    "                totals[name] = emissions\n",
    "\n",
    "# Step 2: Sort totals by emission values\n",
    "        sorted_totals = sorted(totals.items(), key=lambda x: x[1])\n",
    "\n",
    "# Step 3: Print results with capitalization of name\n",
    "        for i, (name, total_emissions) in enumerate(sorted_totals, start=1):\n",
    "            print(f\"{i}. {name.capitalize()}: {round(total_emissions, 2)} kg CO2\")\n",
    "        \n",
    "\n",
    "    print(\"\\nPress Enter to return to the menu...\")\n",
    "    input()\n"
   ]
  },
  {
   "cell_type": "markdown",
   "id": "f84bd09f",
   "metadata": {},
   "source": [
    "Function: History of Trips"
   ]
  },
  {
   "cell_type": "code",
   "execution_count": null,
   "id": "91c9e3c2",
   "metadata": {},
   "outputs": [],
   "source": [
    "#Display all entries in the database chronologically with transport details.\n",
    "def show_history():\n",
    "\n",
    "    clear_screen()\n",
    "    if not database:\n",
    "        print(\"\\nNo history yet. Calculate and save a trip first.\")\n",
    "    \n",
    "    else:\n",
    "        print(\"\\n--- Emissions History ---\")\n",
    "        for i, entry in enumerate(database, start=1):\n",
    "            print(f\"{i}. {entry['name'].capitalize()} took a {entry['mode']} trip of {entry['distance']} km \"\n",
    "                  f\"-> {entry['emissions']} kg CO2\")\n",
    "\n",
    "    print(\"\\nPress Enter to return to the menu...\")\n",
    "    input()"
   ]
  },
  {
   "cell_type": "markdown",
   "id": "86a5cc62",
   "metadata": {},
   "source": [
    "Function: Show Players"
   ]
  },
  {
   "cell_type": "code",
   "execution_count": null,
   "id": "5e537273",
   "metadata": {},
   "outputs": [],
   "source": [
    "#Display the names of all players in the leaderboard.\n",
    "def show_player_names():\n",
    "    clear_screen()\n",
    "    if not database:\n",
    "        print(\"\\nNo players have been added yet.\")\n",
    "    \n",
    "    else:\n",
    "        print(\"\\n--- Player Names (Alphabetical) ---\")\n",
    "        # Use a set to remove duplicates, then sort alphabetically\n",
    "        unique_names = sorted(set(entry['name'] for entry in database))\n",
    "        for name in unique_names:\n",
    "            print(name.capitalize())  # Capitalize only the first letter\n",
    "\n",
    "    print(\"\\nPress Enter to return to the menu...\")\n",
    "    input()"
   ]
  },
  {
   "cell_type": "markdown",
   "id": "38d62cd7",
   "metadata": {},
   "source": [
    "Function: Chat GPT Input"
   ]
  },
  {
   "cell_type": "markdown",
   "id": "b57b1a09",
   "metadata": {},
   "source": [
    "Chat GPT API Key Best Practice: Enviromental Key\n",
    "Source: https://help.openai.com/en/articles/5112595-best-practices-for-api-key-safety"
   ]
  },
  {
   "cell_type": "code",
   "execution_count": null,
   "id": "dea1669f",
   "metadata": {},
   "outputs": [],
   "source": [
    "openai.api_key = os.environ[\"OPENAI_API_KEY\"]\n",
    "client = OpenAI()\n",
    "\n",
    "# Dynamically generate allowed transport modes list from the emission_factors keys\n",
    "allowed_modes = list(emission_factors.keys())\n",
    "modes_list_string = ', '.join(f'\"{mode}\"' for mode in allowed_modes)\n",
    "modes_description = ', '.join(allowed_modes)\n",
    "\n",
    "# Define the system prompt\n",
    "system_prompt = \"\"\"\n",
    "You are a transportation emissions assistant. The user will describe a trip in natural language.\n",
    "\n",
    "Your task:\n",
    "1. Choose the closest matching transport mode from this list ONLY:\n",
    "   [{modes_list_string}]\n",
    "2. Convert any distance to kilometers (km). If the user says miles, convert using 1 mile = 1.60934 km.\n",
    "3. Return ONLY the following JSON format:\n",
    "\n",
    "{\n",
    "  \"transport_mode\": \"<{modes_description}>\",\n",
    "  \"distance\": <distance in km, numeric>\n",
    "}\n",
    "\n",
    "If anything is unclear or missing, use null for that value.\n",
    "Only respond with the JSON. No other text.\n",
    "\"\"\"\n",
    "\n",
    "def get_trip_from_chatgpt():\n",
    "    user_input = input(\"\\n📝 Describe your trip (e.g., 'I flew 300 miles to Madrid'): \")\n",
    "    try:\n",
    "        completion = client.chat.completions.create(\n",
    "            model=\"gpt-3.5-turbo\",\n",
    "            messages=[\n",
    "                {\"role\": \"system\", \"content\": system_prompt},\n",
    "                {\"role\": \"user\", \"content\": user_input}\n",
    "            ]\n",
    "        )\n",
    "        response = completion.choices[0].message.content.strip()\n",
    "        parsed = json.loads(response)\n",
    "\n",
    "        mode = parsed.get(\"transport_mode\")\n",
    "        distance = parsed.get(\"distance\")\n",
    "\n",
    "        if not mode or distance is None:\n",
    "            print(\"\\n Could not understand the trip details. Please try again.\")\n",
    "            input(\"\\nPress Enter to return to the menu...\")\n",
    "            return\n",
    "\n",
    "        factor = emission_factors.get(mode)\n",
    "        if not factor:\n",
    "            print(f\"\\n Mode '{mode}' is not supported.\")\n",
    "            input(\"\\nPress Enter to return to the menu...\")\n",
    "            return\n",
    "\n",
    "        emissions = round(factor * distance, 2)\n",
    "        print(f\"\\n✅ Estimated CO2 emissions: {emissions} kg\")\n",
    "\n",
    "        save = input(\"\\nDo you want to save this result? (y/n): \").strip().lower()\n",
    "        if save == 'y':\n",
    "            name = input(\"Enter your first name: \").strip().lower()\n",
    "            database.append({\n",
    "                \"name\": name,\n",
    "                \"emissions\": emissions,\n",
    "                \"mode\": mode,\n",
    "                \"distance\": distance\n",
    "            })\n",
    "            print(\"Result saved!\")\n",
    "\n",
    "        input(\"\\nPress Enter to return to the menu...\")\n",
    "\n",
    "    except Exception as e:\n",
    "        print(\"\\n❌ An error occurred:\", e)\n",
    "        input(\"\\nPress Enter to return to the menu...\")"
   ]
  },
  {
   "cell_type": "markdown",
   "id": "dc860c90",
   "metadata": {},
   "source": [
    "Function: Clear Outputs"
   ]
  },
  {
   "cell_type": "code",
   "execution_count": null,
   "id": "f1a83f94",
   "metadata": {},
   "outputs": [],
   "source": [
    "#Clear the terminal screen !! Only visible in the terminal. !!\n",
    "def clear_screen():\n",
    "    os.system('cls' if os.name == 'nt' else 'clear')"
   ]
  },
  {
   "cell_type": "markdown",
   "id": "147f5f03",
   "metadata": {},
   "source": [
    "Function: Show Menu"
   ]
  },
  {
   "cell_type": "code",
   "execution_count": null,
   "id": "c16db633",
   "metadata": {},
   "outputs": [],
   "source": [
    "def show_menu():\n",
    "    \"\"\"Display menu options and get user's choice.\"\"\"\n",
    "    print(\"\\n=== Emissions Calculator Menu ===\")\n",
    "    print(\"1. Calculate a new trip\")\n",
    "    print(\"2. Show leaderboard\")\n",
    "    print(\"3. Show all player names\")\n",
    "    print(\"4. Show all trip history\")\n",
    "    print(\"5. BETA:Calculate a new trip via ChatGPT\")\n",
    "    print(\"6. Exit\")\n",
    "    return input(\"Choose an option by typing the number: \").strip()"
   ]
  },
  {
   "cell_type": "markdown",
   "id": "50a884b2",
   "metadata": {},
   "source": [
    "Main Program"
   ]
  },
  {
   "cell_type": "code",
   "execution_count": null,
   "id": "60407b5d",
   "metadata": {},
   "outputs": [],
   "source": [
    "def main():\n",
    "    while True:\n",
    "        # Clear the screen for a fresh start after each loop\n",
    "        clear_screen() \n",
    "\n",
    "        choice = show_menu()\n",
    "\n",
    "        if choice == '1':\n",
    "            handle_trip_calculation()\n",
    "\n",
    "        elif choice == '2':\n",
    "            show_leaderboard()\n",
    "                    \n",
    "        elif choice == '3':\n",
    "            show_player_names()\n",
    "\n",
    "        elif choice == '4':\n",
    "            show_history()\n",
    "        \n",
    "        elif choice == '5':\n",
    "            get_trip_from_chatgpt()\n",
    "            \n",
    "        elif choice == '6':\n",
    "            print(\"\\nGoodbye!\")\n",
    "            break\n",
    "        else:\n",
    "            print(\"\\nInvalid choice. Please select a valid option.\")\n",
    "\n",
    "main()"
   ]
  }
 ],
 "metadata": {
  "kernelspec": {
   "display_name": "Python 3",
   "language": "python",
   "name": "python3"
  },
  "language_info": {
   "codemirror_mode": {
    "name": "ipython",
    "version": 3
   },
   "file_extension": ".py",
   "mimetype": "text/x-python",
   "name": "python",
   "nbconvert_exporter": "python",
   "pygments_lexer": "ipython3",
   "version": "3.13.1"
  }
 },
 "nbformat": 4,
 "nbformat_minor": 5
}
