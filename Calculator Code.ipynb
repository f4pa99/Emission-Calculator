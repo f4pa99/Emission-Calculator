{
 "cells": [
  {
   "cell_type": "markdown",
   "id": "884f97eb",
   "metadata": {},
   "source": [
    "Import Libaries"
   ]
  },
  {
   "cell_type": "code",
   "execution_count": 1,
   "id": "f3168cca",
   "metadata": {},
   "outputs": [],
   "source": [
    "import os # for clearing the terminal\n",
    "import time # for adding pauses"
   ]
  },
  {
   "cell_type": "markdown",
   "id": "0507ad50",
   "metadata": {},
   "source": [
    "Welcome Message"
   ]
  },
  {
   "cell_type": "code",
   "execution_count": 2,
   "id": "009b5053",
   "metadata": {},
   "outputs": [
    {
     "name": "stdout",
     "output_type": "stream",
     "text": [
      "Simple Emissions Calculator Ready!\n"
     ]
    }
   ],
   "source": [
    "print(\"Simple Emissions Calculator Ready!\")\n",
    "\n",
    "# Pause for 2 seconds\n",
    "time.sleep(2) "
   ]
  },
  {
   "cell_type": "markdown",
   "id": "6a8e5ea6",
   "metadata": {},
   "source": [
    "Defining Variables"
   ]
  },
  {
   "cell_type": "code",
   "execution_count": 3,
   "id": "3bddcd82",
   "metadata": {},
   "outputs": [],
   "source": [
    "# Dictionary of emission factors in kg CO2 per km\n",
    "emission_factors = {\n",
    "    'car': 0.192,      \n",
    "    'train': 0.041,\n",
    "    'plane': 0.255\n",
    "}"
   ]
  },
  {
   "cell_type": "markdown",
   "id": "b09aaeb1",
   "metadata": {},
   "source": [
    "Calculation Function"
   ]
  },
  {
   "cell_type": "code",
   "execution_count": 4,
   "id": "efd0b4ee",
   "metadata": {},
   "outputs": [],
   "source": [
    "def calculate_emissions(mode, distance_km):\n",
    "    factor = emission_factors.get(mode.lower())\n",
    "    if factor:\n",
    "        return round(factor * distance_km, 2)\n",
    "    else:\n",
    "        return \"\\nInvalid transport mode selected.\""
   ]
  },
  {
   "cell_type": "markdown",
   "id": "4b2e8130",
   "metadata": {},
   "source": [
    "Leader Board"
   ]
  },
  {
   "cell_type": "code",
   "execution_count": 5,
   "id": "d9ac2c25",
   "metadata": {},
   "outputs": [],
   "source": [
    "database = []"
   ]
  },
  {
   "cell_type": "markdown",
   "id": "652b6c2a",
   "metadata": {},
   "source": [
    "Function: Calculating the Emissions"
   ]
  },
  {
   "cell_type": "code",
   "execution_count": 6,
   "id": "f92fbb06",
   "metadata": {},
   "outputs": [],
   "source": [
    "#Get user input, calculate emissions, and optionally save the result.\n",
    "def handle_trip_calculation():\n",
    "\n",
    "    # Get a valid transport mode or exit\n",
    "    while True:\n",
    "        mode = input(\"\\nEnter mode of transport (car/train/plane) or 'menu' to go back: \").strip().lower()\n",
    "        if mode == 'menu':\n",
    "            return  # Go back to main menu\n",
    "        if mode in emission_factors:\n",
    "            break\n",
    "        else:\n",
    "            print(\"\\nInvalid transport mode. Please enter car, train, or plane.\")\n",
    "\n",
    "    # Get a valid distance or exit\n",
    "    while True:\n",
    "        distance_input = input(\"\\nEnter distance in km or 'menu' to go back: \").strip().lower()\n",
    "        if distance_input == 'menu':\n",
    "            return\n",
    "        try:\n",
    "            distance = float(distance_input)\n",
    "            break\n",
    "        except ValueError:\n",
    "            print(\"\\nInvalid input. Please enter a number for distance.\")\n",
    "\n",
    "    # Calculate emissions\n",
    "    factor = emission_factors[mode]\n",
    "    result = round(factor * distance, 2)\n",
    "    print(f\"\\nEstimated CO2 emissions: {result} kg\")\n",
    "\n",
    "    # Ask to save result or return to menu\n",
    "    save = input(\"\\nDo you want to save this result? (y/n or 'menu' to go back): \").strip().lower()\n",
    "    if save == 'menu':\n",
    "        return\n",
    "    if save == 'y':\n",
    "        name = input(\"\\nEnter your first name or type 'menu' to cancel saving: \").strip().lower()\n",
    "        if name.lower() == 'menu':\n",
    "            return\n",
    "        database.append({\n",
    "            \"name\": name, \n",
    "            \"emissions\": result,\n",
    "            \"mode\": mode,\n",
    "            \"distance\": distance\n",
    "        })\n",
    "\n",
    "        print(\"\\nResult saved!\")\n",
    "\n",
    "\n",
    "    print(\"\\nPress Enter to return to the menu...\")\n",
    "    input()\n",
    "#"
   ]
  },
  {
   "cell_type": "markdown",
   "id": "b07f8e80",
   "metadata": {},
   "source": [
    "Function: Print the Leader Board"
   ]
  },
  {
   "cell_type": "code",
   "execution_count": null,
   "id": "f20d867b",
   "metadata": {},
   "outputs": [],
   "source": [
    "#Display the saved leaderboard.\n",
    "def show_leaderboard():\n",
    "\n",
    "    clear_screen()\n",
    "\n",
    "    if not database:\n",
    "        print(\"\\nNo entries in leaderboard yet.\")\n",
    "\n",
    "    else:\n",
    "        print(\"\\n--- Leaderboard (Lowest to Highest Total CO2 Emissions) ---\")\n",
    "\n",
    "# Step 1: Aggregate total emissions per player\n",
    "        totals = {}\n",
    "        for entry in database:\n",
    "            name = entry['name']\n",
    "            emissions = entry['emissions']\n",
    "            if name in totals:\n",
    "                totals[name] += emissions\n",
    "            else:\n",
    "                totals[name] = emissions\n",
    "\n",
    "# Step 2: Sort totals by emission values\n",
    "        sorted_totals = sorted(totals.items(), key=lambda x: x[1])\n",
    "\n",
    "# Step 3: Print results with capitalization of name\n",
    "        for i, (name, total_emissions) in enumerate(sorted_totals, start=1):\n",
    "            print(f\"{i}. {name.capitalize()}: {round(total_emissions, 2)} kg CO2\")\n",
    "        \n",
    "\n",
    "    print(\"\\nPress Enter to return to the menu...\")\n",
    "    input()\n"
   ]
  },
  {
   "cell_type": "markdown",
   "id": "f84bd09f",
   "metadata": {},
   "source": [
    "Function: History of Trips"
   ]
  },
  {
   "cell_type": "code",
   "execution_count": null,
   "id": "91c9e3c2",
   "metadata": {},
   "outputs": [],
   "source": [
    "#Display all entries in the database chronologically with transport details.\n",
    "def show_history():\n",
    "\n",
    "    clear_screen()\n",
    "    if not database:\n",
    "        print(\"\\nNo history yet. Calculate and save a trip first.\")\n",
    "    \n",
    "    else:\n",
    "        print(\"\\n--- Emissions History ---\")\n",
    "        for i, entry in enumerate(database, start=1):\n",
    "            print(f\"{i}. {entry['name'].capitalize()} took a {entry['mode']} trip of {entry['distance']} km \"\n",
    "                  f\"-> {entry['emissions']} kg CO2\")\n",
    "\n",
    "    print(\"\\nPress Enter to return to the menu...\")\n",
    "    input()"
   ]
  },
  {
   "cell_type": "markdown",
   "id": "86a5cc62",
   "metadata": {},
   "source": [
    "Function: Show Players"
   ]
  },
  {
   "cell_type": "code",
   "execution_count": 9,
   "id": "5e537273",
   "metadata": {},
   "outputs": [],
   "source": [
    "#Display the names of all players in the leaderboard.\n",
    "def show_player_names():\n",
    "    clear_screen()\n",
    "    if not database:\n",
    "        print(\"\\nNo players have been added yet.\")\n",
    "    \n",
    "    else:\n",
    "        print(\"\\n--- Player Names (Alphabetical) ---\")\n",
    "        # Use a set to remove duplicates, then sort alphabetically\n",
    "        unique_names = sorted(set(entry['name'] for entry in database))\n",
    "        for name in unique_names:\n",
    "            print(name.capitalize())  # Capitalize only the first letter\n",
    "\n",
    "    print(\"\\nPress Enter to return to the menu...\")\n",
    "    input()"
   ]
  },
  {
   "cell_type": "markdown",
   "id": "dc860c90",
   "metadata": {},
   "source": [
    "Function: Clear Outputs"
   ]
  },
  {
   "cell_type": "code",
   "execution_count": 10,
   "id": "f1a83f94",
   "metadata": {},
   "outputs": [],
   "source": [
    "#Clear the terminal screen !! Only visible in the terminal. !!\n",
    "def clear_screen():\n",
    "    os.system('cls' if os.name == 'nt' else 'clear')"
   ]
  },
  {
   "cell_type": "markdown",
   "id": "147f5f03",
   "metadata": {},
   "source": [
    "Function: Show Menu"
   ]
  },
  {
   "cell_type": "code",
   "execution_count": null,
   "id": "c16db633",
   "metadata": {},
   "outputs": [],
   "source": [
    "def show_menu():\n",
    "    \"\"\"Display menu options and get user's choice.\"\"\"\n",
    "    print(\"\\n=== Emissions Calculator Menu ===\")\n",
    "    print(\"1. Calculate a new trip\")\n",
    "    print(\"2. Show leaderboard\")\n",
    "    print(\"3. Show all player names\")\n",
    "    print(\"4. Show all trip history\")\n",
    "    print(\"5. Exit\")\n",
    "    return input(\"Choose an option (1/2/3/4/5): \").strip()"
   ]
  },
  {
   "cell_type": "markdown",
   "id": "50a884b2",
   "metadata": {},
   "source": [
    "Main Program"
   ]
  },
  {
   "cell_type": "code",
   "execution_count": 12,
   "id": "60407b5d",
   "metadata": {},
   "outputs": [
    {
     "name": "stdout",
     "output_type": "stream",
     "text": [
      "\u001b[H\u001b[2J\n",
      "=== Emissions Calculator Menu ===\n",
      "1. Calculate a new trip\n",
      "2. Show leaderboard\n",
      "3. Show all player names\n",
      "4. Show all trip history\n",
      "5. Exit\n",
      "\n",
      "Estimated CO2 emissions: 0.96 kg\n",
      "\n",
      "Press Enter to return to the menu...\n",
      "\u001b[H\u001b[2J\n",
      "=== Emissions Calculator Menu ===\n",
      "1. Calculate a new trip\n",
      "2. Show leaderboard\n",
      "3. Show all player names\n",
      "4. Show all trip history\n",
      "5. Exit\n",
      "\n",
      "Estimated CO2 emissions: 0.12 kg\n",
      "\n",
      "Result saved!\n",
      "\n",
      "Press Enter to return to the menu...\n",
      "\u001b[H\u001b[2J\n",
      "=== Emissions Calculator Menu ===\n",
      "1. Calculate a new trip\n",
      "2. Show leaderboard\n",
      "3. Show all player names\n",
      "4. Show all trip history\n",
      "5. Exit\n",
      "\u001b[H\u001b[2J\n",
      "--- Player Names (Alphabetical) ---\n",
      "Andre\n",
      "\n",
      "Press Enter to return to the menu...\n",
      "\u001b[H\u001b[2J\n",
      "=== Emissions Calculator Menu ===\n",
      "1. Calculate a new trip\n",
      "2. Show leaderboard\n",
      "3. Show all player names\n",
      "4. Show all trip history\n",
      "5. Exit\n",
      "\n",
      "Estimated CO2 emissions: 27.46 kg\n",
      "\n",
      "Result saved!\n",
      "\n",
      "Press Enter to return to the menu...\n",
      "\u001b[H\u001b[2J\n",
      "=== Emissions Calculator Menu ===\n",
      "1. Calculate a new trip\n",
      "2. Show leaderboard\n",
      "3. Show all player names\n",
      "4. Show all trip history\n",
      "5. Exit\n",
      "\u001b[H\u001b[2J\n",
      "--- Leaderboard (Lowest to Highest Total CO2 Emissions) ---\n",
      "1. Andre: 0.12 kg CO2\n",
      "2. Pipo: 27.46 kg CO2\n",
      "\n",
      "Press Enter to return to the menu...\n",
      "\u001b[H\u001b[2J\n",
      "=== Emissions Calculator Menu ===\n",
      "1. Calculate a new trip\n",
      "2. Show leaderboard\n",
      "3. Show all player names\n",
      "4. Show all trip history\n",
      "5. Exit\n",
      "\u001b[H\u001b[2J\n",
      "--- Player Names (Alphabetical) ---\n",
      "Andre\n",
      "Pipo\n",
      "\n",
      "Press Enter to return to the menu...\n",
      "\u001b[H\u001b[2J\n",
      "=== Emissions Calculator Menu ===\n",
      "1. Calculate a new trip\n",
      "2. Show leaderboard\n",
      "3. Show all player names\n",
      "4. Show all trip history\n",
      "5. Exit\n",
      "\n",
      "Goodbye!\n"
     ]
    }
   ],
   "source": [
    "def main():\n",
    "    while True:\n",
    "        # Clear the screen for a fresh start after each loop\n",
    "        clear_screen() \n",
    "\n",
    "        choice = show_menu()\n",
    "\n",
    "        if choice == '1':\n",
    "            handle_trip_calculation()\n",
    "\n",
    "        elif choice == '2':\n",
    "            show_leaderboard()\n",
    "                    \n",
    "        elif choice == '3':\n",
    "            show_player_names()\n",
    "\n",
    "        elif choice == '4':\n",
    "            show_history()\n",
    "            \n",
    "        elif choice == '5':\n",
    "            print(\"\\nGoodbye!\")\n",
    "            break\n",
    "        else:\n",
    "            print(\"\\nInvalid choice. Please select a valid option.\")\n",
    "\n",
    "main()"
   ]
  }
 ],
 "metadata": {
  "kernelspec": {
   "display_name": "Python 3",
   "language": "python",
   "name": "python3"
  },
  "language_info": {
   "codemirror_mode": {
    "name": "ipython",
    "version": 3
   },
   "file_extension": ".py",
   "mimetype": "text/x-python",
   "name": "python",
   "nbconvert_exporter": "python",
   "pygments_lexer": "ipython3",
   "version": "3.13.1"
  }
 },
 "nbformat": 4,
 "nbformat_minor": 5
}
